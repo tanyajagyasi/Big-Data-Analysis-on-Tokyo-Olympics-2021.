{
  "nbformat": 4,
  "nbformat_minor": 0,
  "metadata": {
    "colab": {
      "name": "202118025_202118039_Tokyo_Olympics_Analysis_2021.ipynb",
      "provenance": [],
      "collapsed_sections": []
    },
    "kernelspec": {
      "name": "python3",
      "display_name": "Python 3"
    },
    "language_info": {
      "name": "python"
    }
  },
  "cells": [
    {
      "cell_type": "markdown",
      "source": [
        "#Data warehouse OLAP queries using Spark-SQL"
      ],
      "metadata": {
        "id": "_nG-174xfzY6"
      }
    },
    {
      "cell_type": "code",
      "source": [
        "# install py-spark\n",
        "!pip install --quiet pyspark"
      ],
      "metadata": {
        "id": "m0PWO0EKFwnW"
      },
      "execution_count": 3,
      "outputs": []
    },
    {
      "cell_type": "code",
      "source": [
        "# mount Google Drive\n",
        "from google.colab import drive\n",
        "drive.mount(\"/content/gdrive\")"
      ],
      "metadata": {
        "colab": {
          "base_uri": "https://localhost:8080/"
        },
        "id": "ScP-A8RnteJX",
        "outputId": "9050d593-19cd-44dd-8634-fec9d5a87d94"
      },
      "execution_count": 6,
      "outputs": [
        {
          "output_type": "stream",
          "name": "stdout",
          "text": [
            "Drive already mounted at /content/gdrive; to attempt to forcibly remount, call drive.mount(\"/content/gdrive\", force_remount=True).\n"
          ]
        }
      ]
    },
    {
      "cell_type": "code",
      "source": [
        "# Start Spark Session\n",
        "from pyspark.sql import SparkSession\n",
        "\n",
        "spark = SparkSession \\\n",
        "    .builder \\\n",
        "    .appName(\"BDP Project\") \\\n",
        "    .getOrCreate()"
      ],
      "metadata": {
        "id": "7hOvsW6xwiql"
      },
      "execution_count": 7,
      "outputs": []
    },
    {
      "cell_type": "code",
      "source": [
        "# A function to create table from a CSV\n",
        "def csvToTable(file_name, table_name):\n",
        "  db_name = \"\"\n",
        "  #table_name = db_name + table_name\n",
        "  df = spark.read \\\n",
        "  .option(\"header\", \"true\") \\\n",
        "  .option(\"inferSchema\", \"true\") \\\n",
        "  .option(\"sep\", \",\") \\\n",
        "  .csv( \"gdrive/My Drive/Dataset/\" + file_name )\n",
        "  df.createOrReplaceTempView( table_name +\"df\" ) \n",
        "\n",
        "  tokyo_sql = \"drop table IF EXISTS \" + table_name\n",
        "  spark.sql( tokyo_sql )\n",
        "\n",
        "  tokyo_sql = \"create table \" + table_name \\\n",
        "  + \" USING PARQUET AS\" \\\n",
        "  + \" SELECT * FROM \" + table_name + \"df\"\n",
        "  spark.sql( tokyo_sql )\n",
        "\n",
        "  tokyo_sql = \"describe \" + table_name\n",
        "  print(\"Table \" + table_name + \"Done Successfully!\")\n",
        "  spark.sql( tokyo_sql ).show()\n",
        "\n",
        "  spark.catalog.dropTempView( table_name + \"df\" )"
      ],
      "metadata": {
        "id": "wBOwaubYych9"
      },
      "execution_count": 8,
      "outputs": []
    },
    {
      "cell_type": "code",
      "source": [
        "# Create Tables\n",
        "csvToTable(\"Athletes.csv\", \"Athletes\")\n",
        "csvToTable(\"Coaches.csv\", \"Coaches\")\n",
        "csvToTable(\"EntriesGender.csv\", \"Gender\")\n",
        "csvToTable(\"Teams.csv\", \"Teams\")\n",
        "csvToTable(\"Medals.csv\", \"Medals\")"
      ],
      "metadata": {
        "colab": {
          "base_uri": "https://localhost:8080/"
        },
        "id": "_T67GK84yjnh",
        "outputId": "97bff864-da18-4d50-942b-b85d1e3ddf20"
      },
      "execution_count": 9,
      "outputs": [
        {
          "output_type": "stream",
          "name": "stdout",
          "text": [
            "Table AthletesDone Successfully!\n",
            "+----------+---------+-------+\n",
            "|  col_name|data_type|comment|\n",
            "+----------+---------+-------+\n",
            "|      Name|   string|   null|\n",
            "|   Country|   string|   null|\n",
            "|Discipline|   string|   null|\n",
            "+----------+---------+-------+\n",
            "\n",
            "Table CoachesDone Successfully!\n",
            "+----------+---------+-------+\n",
            "|  col_name|data_type|comment|\n",
            "+----------+---------+-------+\n",
            "|      Name|   string|   null|\n",
            "|   Country|   string|   null|\n",
            "|Discipline|   string|   null|\n",
            "|     Event|   string|   null|\n",
            "+----------+---------+-------+\n",
            "\n",
            "Table GenderDone Successfully!\n",
            "+----------+---------+-------+\n",
            "|  col_name|data_type|comment|\n",
            "+----------+---------+-------+\n",
            "|Discipline|   string|   null|\n",
            "|    Female|      int|   null|\n",
            "|      Male|      int|   null|\n",
            "|     Total|      int|   null|\n",
            "+----------+---------+-------+\n",
            "\n",
            "Table TeamsDone Successfully!\n",
            "+----------+---------+-------+\n",
            "|  col_name|data_type|comment|\n",
            "+----------+---------+-------+\n",
            "|      Name|   string|   null|\n",
            "|Discipline|   string|   null|\n",
            "|   Country|   string|   null|\n",
            "|     Event|   string|   null|\n",
            "+----------+---------+-------+\n",
            "\n",
            "Table MedalsDone Successfully!\n",
            "+-------------+---------+-------+\n",
            "|     col_name|data_type|comment|\n",
            "+-------------+---------+-------+\n",
            "|         Rank|      int|   null|\n",
            "|      Country|   string|   null|\n",
            "|         Gold|      int|   null|\n",
            "|       Silver|      int|   null|\n",
            "|       Bronze|      int|   null|\n",
            "|        Total|      int|   null|\n",
            "|Rank_by_Total|      int|   null|\n",
            "+-------------+---------+-------+\n",
            "\n"
          ]
        }
      ]
    },
    {
      "cell_type": "code",
      "source": [
        "#show Tables\n",
        "tables = \"SHOW TABLES\"\n",
        "spark.sql( tables ).show()\n",
        "\n",
        "#you can also use following\n",
        "#spark.catalog.listTables()"
      ],
      "metadata": {
        "colab": {
          "base_uri": "https://localhost:8080/"
        },
        "id": "esp4LOqp9jHV",
        "outputId": "4172a8d2-2463-479e-f9fb-8bf33c845d68"
      },
      "execution_count": 10,
      "outputs": [
        {
          "output_type": "stream",
          "name": "stdout",
          "text": [
            "+---------+---------+-----------+\n",
            "|namespace|tableName|isTemporary|\n",
            "+---------+---------+-----------+\n",
            "|  default| athletes|      false|\n",
            "|  default|  coaches|      false|\n",
            "|  default|   gender|      false|\n",
            "|  default|   medals|      false|\n",
            "|  default|    teams|      false|\n",
            "+---------+---------+-----------+\n",
            "\n"
          ]
        }
      ]
    },
    {
      "cell_type": "markdown",
      "source": [
        "showing contents of tables using\"select\" statement"
      ],
      "metadata": {
        "id": "GDO7BEx9RqDF"
      }
    },
    {
      "cell_type": "code",
      "source": [
        "athletes = \"select * from athletes limit 10\"\n",
        "spark.sql( athletes ).show()"
      ],
      "metadata": {
        "colab": {
          "base_uri": "https://localhost:8080/"
        },
        "id": "fIRTsULoTWFj",
        "outputId": "4e96d343-b0de-425d-f7f6-11d834fb5a19"
      },
      "execution_count": 11,
      "outputs": [
        {
          "output_type": "stream",
          "name": "stdout",
          "text": [
            "+-----------------+--------------------+-------------------+\n",
            "|             Name|             Country|         Discipline|\n",
            "+-----------------+--------------------+-------------------+\n",
            "|  AALERUD Katrine|              Norway|       Cycling Road|\n",
            "|      ABAD Nestor|               Spain|Artistic Gymnastics|\n",
            "|ABAGNALE Giovanni|               Italy|             Rowing|\n",
            "|   ABALDE Alberto|               Spain|         Basketball|\n",
            "|    ABALDE Tamara|               Spain|         Basketball|\n",
            "|        ABALO Luc|              France|           Handball|\n",
            "|     ABAROA Cesar|               Chile|             Rowing|\n",
            "|    ABASS Abobakr|               Sudan|           Swimming|\n",
            "| ABBASALI Hamideh|Islamic Republic ...|             Karate|\n",
            "|    ABBASOV Islam|          Azerbaijan|          Wrestling|\n",
            "+-----------------+--------------------+-------------------+\n",
            "\n"
          ]
        }
      ]
    },
    {
      "cell_type": "code",
      "source": [
        "spark.sql(athletes).printSchema()"
      ],
      "metadata": {
        "colab": {
          "base_uri": "https://localhost:8080/"
        },
        "id": "dYNSVXQuSNGi",
        "outputId": "9aea8c14-b0e5-468e-cb74-aa169b0663e4"
      },
      "execution_count": 12,
      "outputs": [
        {
          "output_type": "stream",
          "name": "stdout",
          "text": [
            "root\n",
            " |-- Name: string (nullable = true)\n",
            " |-- Country: string (nullable = true)\n",
            " |-- Discipline: string (nullable = true)\n",
            "\n"
          ]
        }
      ]
    },
    {
      "cell_type": "code",
      "source": [
        "coaches = \"select * from coaches limit 10\"\n",
        "spark.sql( coaches ).show()"
      ],
      "metadata": {
        "colab": {
          "base_uri": "https://localhost:8080/"
        },
        "id": "CDtc4L4ATPfF",
        "outputId": "b916ba9b-4c69-4153-ab2a-c5240b4c2ede"
      },
      "execution_count": 13,
      "outputs": [
        {
          "output_type": "stream",
          "name": "stdout",
          "text": [
            "+--------------------+--------------------+-----------------+--------+\n",
            "|                Name|             Country|       Discipline|   Event|\n",
            "+--------------------+--------------------+-----------------+--------+\n",
            "|     ABDELMAGID Wael|               Egypt|         Football|    null|\n",
            "|           ABE Junya|               Japan|       Volleyball|    null|\n",
            "|       ABE Katsuhiko|               Japan|       Basketball|    null|\n",
            "|        ADAMA Cherif|       Côte d'Ivoire|         Football|    null|\n",
            "|          AGEBA Yuya|               Japan|       Volleyball|    null|\n",
            "|AIKMAN Siegfried ...|               Japan|           Hockey|     Men|\n",
            "|       AL SAADI Kais|             Germany|           Hockey|     Men|\n",
            "|       ALAMEDA Lonni|              Canada|Baseball/Softball|Softball|\n",
            "|     ALEKNO Vladimir|Islamic Republic ...|       Volleyball|     Men|\n",
            "|     ALEKSEEV Alexey|                 ROC|         Handball|   Women|\n",
            "+--------------------+--------------------+-----------------+--------+\n",
            "\n"
          ]
        }
      ]
    },
    {
      "cell_type": "code",
      "source": [
        "spark.sql(coaches).printSchema()"
      ],
      "metadata": {
        "colab": {
          "base_uri": "https://localhost:8080/"
        },
        "id": "Go4lLjMCS2NI",
        "outputId": "c48b2d22-f8c6-4473-f113-9df1d87506f5"
      },
      "execution_count": 14,
      "outputs": [
        {
          "output_type": "stream",
          "name": "stdout",
          "text": [
            "root\n",
            " |-- Name: string (nullable = true)\n",
            " |-- Country: string (nullable = true)\n",
            " |-- Discipline: string (nullable = true)\n",
            " |-- Event: string (nullable = true)\n",
            "\n"
          ]
        }
      ]
    },
    {
      "cell_type": "code",
      "source": [
        "gender = \"select * from gender limit 10\"\n",
        "spark.sql( gender ).show()"
      ],
      "metadata": {
        "colab": {
          "base_uri": "https://localhost:8080/"
        },
        "id": "Gape2dOgTKnz",
        "outputId": "61a6404c-85a4-46a0-f811-1f9238246912"
      },
      "execution_count": 15,
      "outputs": [
        {
          "output_type": "stream",
          "name": "stdout",
          "text": [
            "+-------------------+------+----+-----+\n",
            "|         Discipline|Female|Male|Total|\n",
            "+-------------------+------+----+-----+\n",
            "|     3x3 Basketball|    32|  32|   64|\n",
            "|            Archery|    64|  64|  128|\n",
            "|Artistic Gymnastics|    98|  98|  196|\n",
            "|  Artistic Swimming|   105|   0|  105|\n",
            "|          Athletics|   969|1072| 2041|\n",
            "|          Badminton|    86|  87|  173|\n",
            "|  Baseball/Softball|    90| 144|  234|\n",
            "|         Basketball|   144| 144|  288|\n",
            "|   Beach Volleyball|    48|  48|   96|\n",
            "|             Boxing|   102| 187|  289|\n",
            "+-------------------+------+----+-----+\n",
            "\n"
          ]
        }
      ]
    },
    {
      "cell_type": "code",
      "source": [
        "spark.sql(gender).printSchema()"
      ],
      "metadata": {
        "colab": {
          "base_uri": "https://localhost:8080/"
        },
        "id": "69mWOFWtS7Dk",
        "outputId": "06dc94ae-aedc-4193-9d84-6a2cc6f56ca6"
      },
      "execution_count": 16,
      "outputs": [
        {
          "output_type": "stream",
          "name": "stdout",
          "text": [
            "root\n",
            " |-- Discipline: string (nullable = true)\n",
            " |-- Female: integer (nullable = true)\n",
            " |-- Male: integer (nullable = true)\n",
            " |-- Total: integer (nullable = true)\n",
            "\n"
          ]
        }
      ]
    },
    {
      "cell_type": "code",
      "source": [
        "medals = \"select * from medals limit 10\"\n",
        "spark.sql( medals ).show()"
      ],
      "metadata": {
        "colab": {
          "base_uri": "https://localhost:8080/"
        },
        "id": "G7IEcWWiTDuo",
        "outputId": "0eba777f-6b8d-403e-b6a8-4466020cf0c7"
      },
      "execution_count": 17,
      "outputs": [
        {
          "output_type": "stream",
          "name": "stdout",
          "text": [
            "+----+--------------------+----+------+------+-----+-------------+\n",
            "|Rank|             Country|Gold|Silver|Bronze|Total|Rank_by_Total|\n",
            "+----+--------------------+----+------+------+-----+-------------+\n",
            "|   1|United States of ...|  39|    41|    33|  113|            1|\n",
            "|   2|People's Republic...|  38|    32|    18|   88|            2|\n",
            "|   3|               Japan|  27|    14|    17|   58|            5|\n",
            "|   4|       Great Britain|  22|    21|    22|   65|            4|\n",
            "|   5|                 ROC|  20|    28|    23|   71|            3|\n",
            "|   6|           Australia|  17|     7|    22|   46|            6|\n",
            "|   7|         Netherlands|  10|    12|    14|   36|            9|\n",
            "|   8|              France|  10|    12|    11|   33|           10|\n",
            "|   9|             Germany|  10|    11|    16|   37|            8|\n",
            "|  10|               Italy|  10|    10|    20|   40|            7|\n",
            "+----+--------------------+----+------+------+-----+-------------+\n",
            "\n"
          ]
        }
      ]
    },
    {
      "cell_type": "code",
      "source": [
        "spark.sql(medals).printSchema()"
      ],
      "metadata": {
        "colab": {
          "base_uri": "https://localhost:8080/"
        },
        "id": "RT_8zfSaTDB6",
        "outputId": "34033cc6-8f0e-4c5d-e534-3d60120c7dc3"
      },
      "execution_count": 18,
      "outputs": [
        {
          "output_type": "stream",
          "name": "stdout",
          "text": [
            "root\n",
            " |-- Rank: integer (nullable = true)\n",
            " |-- Country: string (nullable = true)\n",
            " |-- Gold: integer (nullable = true)\n",
            " |-- Silver: integer (nullable = true)\n",
            " |-- Bronze: integer (nullable = true)\n",
            " |-- Total: integer (nullable = true)\n",
            " |-- Rank_by_Total: integer (nullable = true)\n",
            "\n"
          ]
        }
      ]
    },
    {
      "cell_type": "code",
      "source": [
        "teams = \"select * from teams limit 10\"\n",
        "spark.sql( teams ).show()"
      ],
      "metadata": {
        "colab": {
          "base_uri": "https://localhost:8080/"
        },
        "id": "TDkDvbTJOYEf",
        "outputId": "2145813b-745c-452d-8d26-23f49de25745"
      },
      "execution_count": 19,
      "outputs": [
        {
          "output_type": "stream",
          "name": "stdout",
          "text": [
            "+-----------+--------------+--------------------+-----+\n",
            "|       Name|    Discipline|             Country|Event|\n",
            "+-----------+--------------+--------------------+-----+\n",
            "|    Belgium|3x3 Basketball|             Belgium|  Men|\n",
            "|      China|3x3 Basketball|People's Republic...|  Men|\n",
            "|      China|3x3 Basketball|People's Republic...|Women|\n",
            "|     France|3x3 Basketball|              France|Women|\n",
            "|      Italy|3x3 Basketball|               Italy|Women|\n",
            "|      Japan|3x3 Basketball|               Japan|  Men|\n",
            "|      Japan|3x3 Basketball|               Japan|Women|\n",
            "|     Latvia|3x3 Basketball|              Latvia|  Men|\n",
            "|   Mongolia|3x3 Basketball|            Mongolia|Women|\n",
            "|Netherlands|3x3 Basketball|         Netherlands|  Men|\n",
            "+-----------+--------------+--------------------+-----+\n",
            "\n"
          ]
        }
      ]
    },
    {
      "cell_type": "code",
      "source": [
        "spark.sql(teams).printSchema()"
      ],
      "metadata": {
        "colab": {
          "base_uri": "https://localhost:8080/"
        },
        "id": "V0AwhRquTJLe",
        "outputId": "818e8a6a-3c21-49d2-acdf-674313ce1af9"
      },
      "execution_count": 20,
      "outputs": [
        {
          "output_type": "stream",
          "name": "stdout",
          "text": [
            "root\n",
            " |-- Name: string (nullable = true)\n",
            " |-- Discipline: string (nullable = true)\n",
            " |-- Country: string (nullable = true)\n",
            " |-- Event: string (nullable = true)\n",
            "\n"
          ]
        }
      ]
    },
    {
      "cell_type": "markdown",
      "source": [
        "#Queries"
      ],
      "metadata": {
        "id": "HhJIAc5bbYtq"
      }
    },
    {
      "cell_type": "code",
      "source": [
        "sql=\"SELECT COUNT(DISTINCT discipline) AS DISTINCT_SPORT FROM athletes\"\n",
        "spark.sql( sql ).show()"
      ],
      "metadata": {
        "id": "fGxZgjrUaTu3",
        "colab": {
          "base_uri": "https://localhost:8080/"
        },
        "outputId": "c5cfaff9-643d-4637-9dc5-81dc9244dfa1"
      },
      "execution_count": 21,
      "outputs": [
        {
          "output_type": "stream",
          "name": "stdout",
          "text": [
            "+--------------+\n",
            "|DISTINCT_SPORT|\n",
            "+--------------+\n",
            "|            46|\n",
            "+--------------+\n",
            "\n"
          ]
        }
      ]
    },
    {
      "cell_type": "code",
      "source": [
        "sql1 = \"Select Name,Country, Discipline AS SPORT FROM athletes GROUP BY CUBE (Name,Country,Discipline)\"\n",
        "spark.sql( sql1 ).show()"
      ],
      "metadata": {
        "id": "Lso74NUkesRc",
        "colab": {
          "base_uri": "https://localhost:8080/"
        },
        "outputId": "2267c359-0d00-4499-89d6-17f96a4a533d"
      },
      "execution_count": 22,
      "outputs": [
        {
          "output_type": "stream",
          "name": "stdout",
          "text": [
            "+--------------------+------------+-------------------+\n",
            "|                Name|     Country|              SPORT|\n",
            "+--------------------+------------+-------------------+\n",
            "|                null|        null|Rhythmic Gymnastics|\n",
            "|    ABDELWAHED Ahmed|        null|               null|\n",
            "|       ABEL Jennifer|        null|               null|\n",
            "|      ACOSTA Marcelo| El Salvador|           Swimming|\n",
            "|                null|        null|       Canoe Slalom|\n",
            "|ADEKUOROYE Odunay...|     Nigeria|               null|\n",
            "|    AKINYI Elizabeth|        null|             Boxing|\n",
            "|   ALDABBAGH Yasmeen|Saudi Arabia|          Athletics|\n",
            "|ALEMANNO Maria Gr...|        null|               null|\n",
            "|                null|South Africa|          Athletics|\n",
            "|     ALLIKVEE Martin|     Estonia|               null|\n",
            "|    ALTUHAYFAN Hamad|        null|           Football|\n",
            "|    ALVARADO Luciana|  Costa Rica|Artistic Gymnastics|\n",
            "| ANASTASAKIS Michail|        null|          Athletics|\n",
            "|   ANDERSON Doneisha|     Bahamas|               null|\n",
            "|ARIAS CASTANEDA Y...|    Colombia|               null|\n",
            "|     BAJRANG Bajrang|       India|               null|\n",
            "|    BALASTEGUI Manel|        null|             Rowing|\n",
            "|BARTSCH-HACKLEY M...|        null|               null|\n",
            "|    BARYSEVICH Darya|     Belarus|          Athletics|\n",
            "+--------------------+------------+-------------------+\n",
            "only showing top 20 rows\n",
            "\n"
          ]
        }
      ]
    },
    {
      "cell_type": "code",
      "source": [
        "sql2 = \"SELECT SUM(Gold) AS Total_Gold, SUM(Silver) AS Total_Silver, SUM(Bronze) AS Total_Bronze FROM Medals \"\n",
        "spark.sql( sql2 ).show()"
      ],
      "metadata": {
        "id": "q2D0bRz5TR5U",
        "colab": {
          "base_uri": "https://localhost:8080/"
        },
        "outputId": "48a4283f-a918-49cf-d594-7a93c60504ea"
      },
      "execution_count": 23,
      "outputs": [
        {
          "output_type": "stream",
          "name": "stdout",
          "text": [
            "+----------+------------+------------+\n",
            "|Total_Gold|Total_Silver|Total_Bronze|\n",
            "+----------+------------+------------+\n",
            "|       340|         338|         402|\n",
            "+----------+------------+------------+\n",
            "\n"
          ]
        }
      ]
    },
    {
      "cell_type": "code",
      "source": [
        "#Finding Top 10 Countries according to World ranking in Tokyo Olympics\n",
        "sql3 = \"Select * From medals ORDER BY Rank_by_Total LIMIT 10\"\n",
        "spark.sql( sql3 ).show()"
      ],
      "metadata": {
        "colab": {
          "base_uri": "https://localhost:8080/"
        },
        "id": "ZqIU-WPhyzYT",
        "outputId": "75e5d153-f573-466f-b851-6b21db2910cd"
      },
      "execution_count": 24,
      "outputs": [
        {
          "output_type": "stream",
          "name": "stdout",
          "text": [
            "+----+--------------------+----+------+------+-----+-------------+\n",
            "|Rank|             Country|Gold|Silver|Bronze|Total|Rank_by_Total|\n",
            "+----+--------------------+----+------+------+-----+-------------+\n",
            "|   1|United States of ...|  39|    41|    33|  113|            1|\n",
            "|   2|People's Republic...|  38|    32|    18|   88|            2|\n",
            "|   5|                 ROC|  20|    28|    23|   71|            3|\n",
            "|   4|       Great Britain|  22|    21|    22|   65|            4|\n",
            "|   3|               Japan|  27|    14|    17|   58|            5|\n",
            "|   6|           Australia|  17|     7|    22|   46|            6|\n",
            "|  10|               Italy|  10|    10|    20|   40|            7|\n",
            "|   9|             Germany|  10|    11|    16|   37|            8|\n",
            "|   7|         Netherlands|  10|    12|    14|   36|            9|\n",
            "|   8|              France|  10|    12|    11|   33|           10|\n",
            "+----+--------------------+----+------+------+-----+-------------+\n",
            "\n"
          ]
        }
      ]
    },
    {
      "cell_type": "code",
      "source": [
        "sql4=\"Select Discipline, Total AS Participants FROM gender Group BY CUBE (Discipline,Participants) ORDER BY (Discipline,Participants) desc\"\n",
        "spark.sql( sql4 ).show()"
      ],
      "metadata": {
        "colab": {
          "base_uri": "https://localhost:8080/"
        },
        "id": "FI3luPNF6JCg",
        "outputId": "f05b5df5-8c32-4e24-fa91-bb052f668ba8"
      },
      "execution_count": 25,
      "outputs": [
        {
          "output_type": "stream",
          "name": "stdout",
          "text": [
            "+--------------------+------------+\n",
            "|          Discipline|Participants|\n",
            "+--------------------+------------+\n",
            "|           Wrestling|         289|\n",
            "|           Wrestling|        null|\n",
            "|       Weightlifting|         197|\n",
            "|       Weightlifting|        null|\n",
            "|          Water Polo|         268|\n",
            "|          Water Polo|        null|\n",
            "|          Volleyball|         288|\n",
            "|          Volleyball|        null|\n",
            "|           Triathlon|         110|\n",
            "|           Triathlon|        null|\n",
            "|Trampoline Gymnas...|          32|\n",
            "|Trampoline Gymnas...|        null|\n",
            "|              Tennis|         191|\n",
            "|              Tennis|        null|\n",
            "|           Taekwondo|         130|\n",
            "|           Taekwondo|        null|\n",
            "|        Table Tennis|         172|\n",
            "|        Table Tennis|        null|\n",
            "|            Swimming|         779|\n",
            "|            Swimming|        null|\n",
            "+--------------------+------------+\n",
            "only showing top 20 rows\n",
            "\n"
          ]
        }
      ]
    },
    {
      "cell_type": "code",
      "source": [
        "sql5 = \"Select * FROM medals WHERE Rank_by_Total = 25\"\n",
        "spark.sql( sql5 ).show()"
      ],
      "metadata": {
        "colab": {
          "base_uri": "https://localhost:8080/"
        },
        "id": "Fguk1ssY1mk6",
        "outputId": "751907ef-75e5-41c8-c5d8-056b28b2170c"
      },
      "execution_count": 26,
      "outputs": [
        {
          "output_type": "stream",
          "name": "stdout",
          "text": [
            "+----+-------+----+------+------+-----+-------------+\n",
            "|Rank|Country|Gold|Silver|Bronze|Total|Rank_by_Total|\n",
            "+----+-------+----+------+------+-----+-------------+\n",
            "|  19|  Kenya|   4|     4|     2|   10|           25|\n",
            "+----+-------+----+------+------+-----+-------------+\n",
            "\n"
          ]
        }
      ]
    },
    {
      "cell_type": "code",
      "source": [
        "sql6 = \"Select * FROM medals Where Country = 'India'\"\n",
        "spark.sql( sql6 ).show()"
      ],
      "metadata": {
        "colab": {
          "base_uri": "https://localhost:8080/"
        },
        "outputId": "49538670-25bd-4dd3-f629-012b6ac2962c",
        "id": "_OfGxF7TicD5"
      },
      "execution_count": 27,
      "outputs": [
        {
          "output_type": "stream",
          "name": "stdout",
          "text": [
            "+----+-------+----+------+------+-----+-------------+\n",
            "|Rank|Country|Gold|Silver|Bronze|Total|Rank_by_Total|\n",
            "+----+-------+----+------+------+-----+-------------+\n",
            "|  48|  India|   1|     2|     4|    7|           33|\n",
            "+----+-------+----+------+------+-----+-------------+\n",
            "\n"
          ]
        }
      ]
    },
    {
      "cell_type": "code",
      "source": [
        "sql7 = \"select Distinct Discipline from athletes \"\n",
        "spark.sql(sql7).show()"
      ],
      "metadata": {
        "id": "gzzltciCifb7",
        "colab": {
          "base_uri": "https://localhost:8080/"
        },
        "outputId": "51456212-56b9-4654-9866-eebb713553f7"
      },
      "execution_count": 28,
      "outputs": [
        {
          "output_type": "stream",
          "name": "stdout",
          "text": [
            "+--------------------+\n",
            "|          Discipline|\n",
            "+--------------------+\n",
            "|              Tennis|\n",
            "|              Boxing|\n",
            "|   Marathon Swimming|\n",
            "|                Golf|\n",
            "|              Rowing|\n",
            "|   Baseball/Softball|\n",
            "|                Judo|\n",
            "|             Sailing|\n",
            "|            Swimming|\n",
            "|Cycling BMX Frees...|\n",
            "|          Basketball|\n",
            "|            Handball|\n",
            "| Rhythmic Gymnastics|\n",
            "|              Karate|\n",
            "|           Triathlon|\n",
            "|           Badminton|\n",
            "|        Canoe Sprint|\n",
            "|           Athletics|\n",
            "|       Cycling Track|\n",
            "|    Beach Volleyball|\n",
            "+--------------------+\n",
            "only showing top 20 rows\n",
            "\n"
          ]
        }
      ]
    },
    {
      "cell_type": "code",
      "source": [
        "sql8 = \"select count(Distinct Country) from athletes \"\n",
        "spark.sql(sql8).show()"
      ],
      "metadata": {
        "id": "_sZl3wcEkaTC",
        "colab": {
          "base_uri": "https://localhost:8080/"
        },
        "outputId": "4fa6804a-7648-4b70-af77-39d80f37faa2"
      },
      "execution_count": 29,
      "outputs": [
        {
          "output_type": "stream",
          "name": "stdout",
          "text": [
            "+-----------------------+\n",
            "|count(DISTINCT Country)|\n",
            "+-----------------------+\n",
            "|                    206|\n",
            "+-----------------------+\n",
            "\n"
          ]
        }
      ]
    },
    {
      "cell_type": "code",
      "source": [
        "sql9 = \"Select * FROM medals Where total >= 45\"\n",
        "spark.sql( sql9 ).show()"
      ],
      "metadata": {
        "colab": {
          "base_uri": "https://localhost:8080/"
        },
        "id": "ZN9JiE8VXzU7",
        "outputId": "9a7e2f82-7c62-4041-b17a-97417f887a69"
      },
      "execution_count": 30,
      "outputs": [
        {
          "output_type": "stream",
          "name": "stdout",
          "text": [
            "+----+--------------------+----+------+------+-----+-------------+\n",
            "|Rank|             Country|Gold|Silver|Bronze|Total|Rank_by_Total|\n",
            "+----+--------------------+----+------+------+-----+-------------+\n",
            "|   1|United States of ...|  39|    41|    33|  113|            1|\n",
            "|   2|People's Republic...|  38|    32|    18|   88|            2|\n",
            "|   3|               Japan|  27|    14|    17|   58|            5|\n",
            "|   4|       Great Britain|  22|    21|    22|   65|            4|\n",
            "|   5|                 ROC|  20|    28|    23|   71|            3|\n",
            "|   6|           Australia|  17|     7|    22|   46|            6|\n",
            "+----+--------------------+----+------+------+-----+-------------+\n",
            "\n"
          ]
        }
      ]
    },
    {
      "cell_type": "code",
      "source": [
        "##  Query: - Particpants at across countries\n",
        "\n",
        "sql10='''\n",
        "select * from (\n",
        "select count(name) as Count_of_Players,Country\n",
        "from athletes\n",
        "group by Country) a\n",
        "order by a.count_of_players desc\n",
        "'''\n",
        "spark.sql( sql10 ).show()"
      ],
      "metadata": {
        "colab": {
          "base_uri": "https://localhost:8080/"
        },
        "outputId": "3b80cf21-d8ed-4094-a108-9f55ff7e1dd2",
        "id": "34cOMJYbaQY0"
      },
      "execution_count": 31,
      "outputs": [
        {
          "output_type": "stream",
          "name": "stdout",
          "text": [
            "+----------------+--------------------+\n",
            "|Count_of_Players|             Country|\n",
            "+----------------+--------------------+\n",
            "|             615|United States of ...|\n",
            "|             586|               Japan|\n",
            "|             470|           Australia|\n",
            "|             401|People's Republic...|\n",
            "|             400|             Germany|\n",
            "|             377|              France|\n",
            "|             368|              Canada|\n",
            "|             366|       Great Britain|\n",
            "|             356|               Italy|\n",
            "|             324|               Spain|\n",
            "|             318|                 ROC|\n",
            "|             291|              Brazil|\n",
            "|             274|         Netherlands|\n",
            "|             223|   Republic of Korea|\n",
            "|             202|         New Zealand|\n",
            "|             195|              Poland|\n",
            "|             180|           Argentina|\n",
            "|             171|        South Africa|\n",
            "|             155|              Mexico|\n",
            "|             155|             Hungary|\n",
            "+----------------+--------------------+\n",
            "only showing top 20 rows\n",
            "\n"
          ]
        }
      ]
    },
    {
      "cell_type": "code",
      "source": [
        "sql11='''\n",
        "select * from (\n",
        "select count(name) as Count_of_Coaches,Country from coaches\n",
        "group by Country) a\n",
        "order by a.Count_of_Coaches desc\n",
        "'''\n",
        "spark.sql( sql11 ).show()"
      ],
      "metadata": {
        "colab": {
          "base_uri": "https://localhost:8080/"
        },
        "id": "nSWhewzcY0SO",
        "outputId": "892697b0-d651-4bbd-d824-fcc3cee1f4ab"
      },
      "execution_count": 32,
      "outputs": [
        {
          "output_type": "stream",
          "name": "stdout",
          "text": [
            "+----------------+--------------------+\n",
            "|Count_of_Coaches|             Country|\n",
            "+----------------+--------------------+\n",
            "|              35|               Japan|\n",
            "|              28|United States of ...|\n",
            "|              28|               Spain|\n",
            "|              22|           Australia|\n",
            "|              16|              Canada|\n",
            "|              14|               Italy|\n",
            "|              12|People's Republic...|\n",
            "|              12|                 ROC|\n",
            "|              12|        South Africa|\n",
            "|              12|               Egypt|\n",
            "|              11|           Argentina|\n",
            "|              10|              France|\n",
            "|              10|           Venezuela|\n",
            "|              10|         Netherlands|\n",
            "|               9|             Nigeria|\n",
            "|               9|             Germany|\n",
            "|               8|         New Zealand|\n",
            "|               8|              Mexico|\n",
            "|               7|       Great Britain|\n",
            "|               7|   Republic of Korea|\n",
            "+----------------+--------------------+\n",
            "only showing top 20 rows\n",
            "\n"
          ]
        }
      ]
    },
    {
      "cell_type": "code",
      "source": [
        "##  Query: - Coaches vs Player Ratio\n",
        "\n",
        "sql12='''\n",
        "select\n",
        "coach_table.Country,\n",
        "Count_of_Players,\n",
        "Count_of_Coaches,\n",
        "round(Count_of_Players/Count_of_Coaches,2) as Player_Coach_Ratio\n",
        "\n",
        "from \n",
        "(select * from (\n",
        "select count(name) as Count_of_Players,Country\n",
        "from athletes\n",
        "group by Country) a\n",
        "order by a.count_of_players desc) player_table\n",
        "\n",
        "join (\n",
        "select * from (\n",
        "select count(name) as Count_of_Coaches,Country from coaches\n",
        "group by Country) a\n",
        "order by a.Count_of_Coaches desc) coach_table\n",
        "\n",
        "on player_table.Country=coach_table.Country\n",
        "\n",
        "''';\n",
        "spark.sql( sql12 ).show()"
      ],
      "metadata": {
        "colab": {
          "base_uri": "https://localhost:8080/"
        },
        "id": "YMMLS2uXZLAA",
        "outputId": "cd7d8099-86e8-451d-cb0b-97c85ddf68f4"
      },
      "execution_count": 33,
      "outputs": [
        {
          "output_type": "stream",
          "name": "stdout",
          "text": [
            "+--------------------+----------------+----------------+------------------+\n",
            "|             Country|Count_of_Players|Count_of_Coaches|Player_Coach_Ratio|\n",
            "+--------------------+----------------+----------------+------------------+\n",
            "|       Côte d'Ivoire|              29|               5|               5.8|\n",
            "|Islamic Republic ...|              66|               2|              33.0|\n",
            "|              Sweden|             129|               3|              43.0|\n",
            "|   Republic of Korea|             223|               7|             31.86|\n",
            "|                Fiji|              28|               2|              14.0|\n",
            "|              Turkey|             102|               1|             102.0|\n",
            "|             Germany|             400|               9|             44.44|\n",
            "|            Cambodia|               3|               1|               3.0|\n",
            "|              France|             377|              10|              37.7|\n",
            "|              Greece|              75|               6|              12.5|\n",
            "|            Slovakia|              38|               1|              38.0|\n",
            "|           Argentina|             180|              11|             16.36|\n",
            "|             Belgium|             125|               5|              25.0|\n",
            "|              Angola|              20|               1|              20.0|\n",
            "|       Great Britain|             366|               7|             52.29|\n",
            "|          San Marino|               4|               2|               2.0|\n",
            "|               India|             117|               5|              23.4|\n",
            "|             Belarus|             104|               1|             104.0|\n",
            "|               Chile|              56|               6|              9.33|\n",
            "|         Puerto Rico|              35|               3|             11.67|\n",
            "+--------------------+----------------+----------------+------------------+\n",
            "only showing top 20 rows\n",
            "\n"
          ]
        }
      ]
    },
    {
      "cell_type": "code",
      "source": [
        "##  Query: -  Teams vs Disciplines\n",
        "sql13='''\n",
        "select * from \n",
        "(select Name,\n",
        "count(distinct discipline) as Count_of_Discipline\n",
        "from teams\n",
        "group by name) a\n",
        "order by a.Count_of_Discipline desc\n",
        "''';\n",
        "spark.sql(sql13).show()"
      ],
      "metadata": {
        "colab": {
          "base_uri": "https://localhost:8080/"
        },
        "id": "pFTsGGSMMogR",
        "outputId": "2d707c37-83f7-43f4-efc0-63b169f7d2de"
      },
      "execution_count": 34,
      "outputs": [
        {
          "output_type": "stream",
          "name": "stdout",
          "text": [
            "+-----------------+-------------------+\n",
            "|             Name|Count_of_Discipline|\n",
            "+-----------------+-------------------+\n",
            "|            Japan|                 19|\n",
            "|    United States|                 17|\n",
            "|            China|                 16|\n",
            "|           France|                 15|\n",
            "|           Canada|                 15|\n",
            "|        Australia|                 14|\n",
            "|            Italy|                 14|\n",
            "|              ROC|                 13|\n",
            "|          Germany|                 12|\n",
            "|            Spain|                 12|\n",
            "|      Netherlands|                 12|\n",
            "|Republic of Korea|                 10|\n",
            "|    Great Britain|                 10|\n",
            "|           Brazil|                 10|\n",
            "|           Poland|                  8|\n",
            "|     South Africa|                  8|\n",
            "|            Egypt|                  7|\n",
            "|          Belgium|                  7|\n",
            "|          Ukraine|                  7|\n",
            "|        Argentina|                  6|\n",
            "+-----------------+-------------------+\n",
            "only showing top 20 rows\n",
            "\n"
          ]
        }
      ]
    }
  ]
}